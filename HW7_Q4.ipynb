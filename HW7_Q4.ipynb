{
 "cells": [
  {
   "cell_type": "code",
   "execution_count": 1,
   "metadata": {},
   "outputs": [],
   "source": [
    "import numpy as np\n",
    "import cvxpy as cp"
   ]
  },
  {
   "cell_type": "code",
   "execution_count": 14,
   "metadata": {},
   "outputs": [
    {
     "name": "stdout",
     "output_type": "stream",
     "text": [
      "Status: optimal\n",
      "Optimal value: 10.00\n",
      "x* = (10.00, -0.00, 2.00, -0.00)\n"
     ]
    }
   ],
   "source": [
    "x = cp.Variable(4)\n",
    "\n",
    "c = np.array([1, -1, 0, 0])\n",
    "\n",
    "A = np.array([[1, 0, 0, 1],\n",
    "              [1, -1, 0, 0],\n",
    "              [0, -1, 1, -1],])\n",
    "\n",
    "b = np.array([10, 11, 4])\n",
    "\n",
    "objective = cp.Maximize(c @ x)\n",
    "\n",
    "constraints = [A @ x <= b,\n",
    "               x >= 0]\n",
    "\n",
    "problem = cp.Problem(objective, constraints)\n",
    "\n",
    "problem.solve()\n",
    "\n",
    "print(f\"Status: {problem.status}\")\n",
    "print(f\"Optimal value: {problem.value:.2f}\")\n",
    "print(f\"x* = ({x[0].value:.2f}, {x[1].value:.2f}, {x[2].value:.2f}, {x[3].value:.2f})\")"
   ]
  }
 ],
 "metadata": {
  "kernelspec": {
   "display_name": "finance",
   "language": "python",
   "name": "python3"
  },
  "language_info": {
   "codemirror_mode": {
    "name": "ipython",
    "version": 3
   },
   "file_extension": ".py",
   "mimetype": "text/x-python",
   "name": "python",
   "nbconvert_exporter": "python",
   "pygments_lexer": "ipython3",
   "version": "3.11.9"
  }
 },
 "nbformat": 4,
 "nbformat_minor": 2
}
