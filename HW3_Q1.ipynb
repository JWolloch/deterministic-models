{
 "cells": [
  {
   "cell_type": "code",
   "execution_count": 2,
   "metadata": {},
   "outputs": [],
   "source": [
    "import numpy as np\n",
    "import cvxpy as cp"
   ]
  },
  {
   "cell_type": "code",
   "execution_count": 5,
   "metadata": {},
   "outputs": [
    {
     "name": "stdout",
     "output_type": "stream",
     "text": [
      "Set parameter Username\n",
      "Academic license - for non-commercial use only - expires 2025-10-28\n",
      "Status: optimal\n",
      "Optimal value: -3.00\n",
      "x* = (0.00, 3.00, 0.00)\n"
     ]
    }
   ],
   "source": [
    "x1 = cp.Variable(nonpos=True)\n",
    "x2 = cp.Variable(nonneg=True)\n",
    "x3 = cp.Variable(nonneg=True)\n",
    "\n",
    "x = cp.vstack([x1, x2, x3])\n",
    "\n",
    "c = np.array([3, -1, -4])\n",
    "A = np.array([[-2, 5, 1], [3, -2, 0]])\n",
    "b = np.array([5, -6])\n",
    "\n",
    "objective = cp.Maximize(c @ x)\n",
    "\n",
    "constraints = [A[0] @ x >= b[0],\n",
    "               A[1] @ x <= b[1]]\n",
    "\n",
    "problem = cp.Problem(objective, constraints)\n",
    "\n",
    "problem.solve(solver=cp.GUROBI)\n",
    "\n",
    "print(f\"Status: {problem.status}\")\n",
    "print(f\"Optimal value: {problem.value:.2f}\")\n",
    "print(f\"x* = ({x1.value:.2f}, {x2.value:.2f}, {x3.value:.2f})\")\n"
   ]
  }
 ],
 "metadata": {
  "kernelspec": {
   "display_name": "finance",
   "language": "python",
   "name": "python3"
  },
  "language_info": {
   "codemirror_mode": {
    "name": "ipython",
    "version": 3
   },
   "file_extension": ".py",
   "mimetype": "text/x-python",
   "name": "python",
   "nbconvert_exporter": "python",
   "pygments_lexer": "ipython3",
   "version": "3.11.9"
  }
 },
 "nbformat": 4,
 "nbformat_minor": 2
}
