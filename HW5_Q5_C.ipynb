{
 "cells": [
  {
   "cell_type": "code",
   "execution_count": 1,
   "metadata": {},
   "outputs": [],
   "source": [
    "import numpy as np\n",
    "import cvxpy as cp"
   ]
  },
  {
   "cell_type": "code",
   "execution_count": 2,
   "metadata": {},
   "outputs": [
    {
     "name": "stdout",
     "output_type": "stream",
     "text": [
      "Set parameter Username\n",
      "Academic license - for non-commercial use only - expires 2025-10-28\n",
      "Status: optimal\n",
      "Optimal value: -100.00\n",
      "x* = (19.70, 42.40, 15.20, 0.00, 51.90, 0.00, 0.00)\n"
     ]
    }
   ],
   "source": [
    "x1 = cp.Variable(nonneg=True)\n",
    "x2 = cp.Variable(nonneg=True)\n",
    "x3 = cp.Variable(nonneg=True)\n",
    "x4 = cp.Variable(nonneg=True)\n",
    "s1 = cp.Variable(nonneg=True)\n",
    "s2 = cp.Variable(nonneg=True)\n",
    "s3 = cp.Variable(nonneg=True)\n",
    "\n",
    "objective = cp.Minimize(-2*x2 - x3 + 7*x4)\n",
    "\n",
    "constraints = [-x1 - x2 + x3 + x4 + s1 == 5,\n",
    "               -2*x1 + x2 - 2*x4 + s2 == 3,\n",
    "               x2 - 2*x3 + s3 == 12,\n",
    "               -2*x2 - x3 + 7*x4 == -100]\n",
    "\n",
    "problem = cp.Problem(objective, constraints)\n",
    "problem.solve(solver=cp.GUROBI)\n",
    "print(f\"Status: {problem.status}\")\n",
    "print(f\"Optimal value: {problem.value:.2f}\")\n",
    "print(f\"x* = ({x1.value:.2f}, {x2.value:.2f}, {x3.value:.2f}, {x4.value:.2f}, {s1.value:.2f}, {s2.value:.2f}, {s3.value:.2f})\")\n"
   ]
  },
  {
   "cell_type": "code",
   "execution_count": 3,
   "metadata": {},
   "outputs": [],
   "source": [
    "def minor(A, i, j):\n",
    "    return np.delete(np.delete(A, i, axis=0), j, axis=1)\n",
    "\n",
    "def adjoint(A):\n",
    "    n = A.shape[0]\n",
    "    return np.array([[(-1)**(i+j) * np.linalg.det(minor(A, j, i)) for j in range(n)] for i in range(n)])\n",
    "\n",
    "def inverse(A):\n",
    "    return adjoint(A) / np.linalg.det(A)\n",
    "\n",
    "def three_inverse(A):\n",
    "    adj = np.zeros((3, 3))\n",
    "    a = A[0, 0]\n",
    "    b = A[0, 1]\n",
    "    c = A[0, 2]\n",
    "    d = A[1, 0]\n",
    "    e = A[1, 1]\n",
    "    f = A[1, 2]\n",
    "    g = A[2, 0]\n",
    "    h = A[2, 1]\n",
    "    i = A[2, 2]\n",
    "    adj[0, 0] = e*i - f*h\n",
    "    adj[0, 1] = -(b*i - c*h)\n",
    "    adj[0, 2] = b*f - c*e\n",
    "    adj[1, 0] = -(d*i - f*g)\n",
    "    adj[1, 1] = a*i - c*g\n",
    "    adj[1, 2] = -(a*f - c*d)\n",
    "    adj[2, 0] = d*h - e*g\n",
    "    adj[2, 1] = -(a*h - b*g)\n",
    "    adj[2, 2] = a*e - b*d\n",
    "    det = a*(e*i - f*h) - b*(d*i - f*g) + c*(d*h - e*g)\n",
    "    inv = adj / det\n",
    "    return np.round(inv, 2)\n"
   ]
  },
  {
   "cell_type": "code",
   "execution_count": 4,
   "metadata": {},
   "outputs": [
    {
     "name": "stdout",
     "output_type": "stream",
     "text": [
      "[[ 1.  -2.  -0. ]\n",
      " [-0.  -0.5  0.5]\n",
      " [-0.   1.5 -0.5]]\n",
      "[[ 1.  -2.  -0. ]\n",
      " [ 0.  -0.5  0.5]\n",
      " [ 0.   1.5 -0.5]]\n"
     ]
    }
   ],
   "source": [
    "A = np.array([[1, 2, 2],\n",
    "              [0, 1, 1],\n",
    "              [0, 3, 1]])\n",
    "A_inv = three_inverse(A)\n",
    "\n",
    "print(A_inv)\n",
    "print(np.round(np.linalg.inv(A), 2))\n",
    "\n",
    "\n"
   ]
  },
  {
   "cell_type": "code",
   "execution_count": 5,
   "metadata": {},
   "outputs": [
    {
     "name": "stdout",
     "output_type": "stream",
     "text": [
      "[[ 1.  -2.  -0. ]\n",
      " [ 0.  -0.5  0.5]\n",
      " [-0.   1.5 -0.5]]\n"
     ]
    }
   ],
   "source": [
    "A_inv2 = inverse(A)\n",
    "print(A_inv2)"
   ]
  },
  {
   "cell_type": "code",
   "execution_count": 6,
   "metadata": {},
   "outputs": [
    {
     "name": "stdout",
     "output_type": "stream",
     "text": [
      "[[-2.   1. ]\n",
      " [ 1.5 -0.5]]\n"
     ]
    }
   ],
   "source": [
    "B = np.array([[1, 2],\n",
    "              [3, 4]])\n",
    "B_inv = inverse(B)\n",
    "print(B_inv)"
   ]
  },
  {
   "cell_type": "code",
   "execution_count": 10,
   "metadata": {},
   "outputs": [
    {
     "name": "stdout",
     "output_type": "stream",
     "text": [
      "[[ 1.   1.  -1. ]\n",
      " [-0.  -0.8  0.6]\n",
      " [-0.   0.6 -0.2]]\n"
     ]
    }
   ],
   "source": [
    "C = np.array([[1, 2, 1],\n",
    "              [0, 1, 3],\n",
    "              [0, 3, 4]])\n",
    "C_inv = three_inverse(C)\n",
    "print(C_inv)"
   ]
  },
  {
   "cell_type": "code",
   "execution_count": 14,
   "metadata": {},
   "outputs": [
    {
     "data": {
      "text/plain": [
       "95.075"
      ]
     },
     "execution_count": 14,
     "metadata": {},
     "output_type": "execute_result"
    }
   ],
   "source": [
    "avg = (95*3.5 + 100*3 + 90*3.5 + 93*2 + 96*2 + 94*3 + 98*3)/20\n",
    "avg"
   ]
  }
 ],
 "metadata": {
  "kernelspec": {
   "display_name": "finance",
   "language": "python",
   "name": "python3"
  },
  "language_info": {
   "codemirror_mode": {
    "name": "ipython",
    "version": 3
   },
   "file_extension": ".py",
   "mimetype": "text/x-python",
   "name": "python",
   "nbconvert_exporter": "python",
   "pygments_lexer": "ipython3",
   "version": "3.11.9"
  }
 },
 "nbformat": 4,
 "nbformat_minor": 2
}
